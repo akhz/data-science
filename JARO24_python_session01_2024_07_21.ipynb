{
  "nbformat": 4,
  "nbformat_minor": 0,
  "metadata": {
    "colab": {
      "provenance": []
    },
    "kernelspec": {
      "name": "python3",
      "display_name": "Python 3"
    },
    "language_info": {
      "name": "python"
    }
  },
  "cells": [
    {
      "cell_type": "markdown",
      "source": [
        "The text written here is for the audience\n",
        "\n",
        "**in which font style can be customized**\n"
      ],
      "metadata": {
        "id": "Y7nF69Jq5fyH"
      }
    },
    {
      "cell_type": "code",
      "source": [
        "# The text written here is for the coder/collaborator"
      ],
      "metadata": {
        "id": "uXqpbPzAkIAO"
      },
      "execution_count": 41,
      "outputs": []
    },
    {
      "cell_type": "markdown",
      "source": [
        "import math library"
      ],
      "metadata": {
        "id": "UjkzgmeCj1K4"
      }
    },
    {
      "cell_type": "code",
      "source": [
        "import math"
      ],
      "metadata": {
        "id": "cHiHDsNgj0oI"
      },
      "execution_count": 42,
      "outputs": []
    },
    {
      "cell_type": "markdown",
      "source": [
        "generate vector (equivalent)"
      ],
      "metadata": {
        "id": "2L7aoMQ94e_-"
      }
    },
    {
      "cell_type": "code",
      "source": [
        "# defining new vector\n",
        "v = [3, 4]"
      ],
      "metadata": {
        "id": "GGApTsNckB42"
      },
      "execution_count": 43,
      "outputs": []
    },
    {
      "cell_type": "code",
      "source": [
        "# checking datatype\n",
        "type(v)"
      ],
      "metadata": {
        "colab": {
          "base_uri": "https://localhost:8080/"
        },
        "id": "wp8L2eLdrQnF",
        "outputId": "5d1aa666-ba80-43fd-8b6f-9d0ed0b96728"
      },
      "execution_count": 44,
      "outputs": [
        {
          "output_type": "execute_result",
          "data": {
            "text/plain": [
              "list"
            ]
          },
          "metadata": {},
          "execution_count": 44
        }
      ]
    },
    {
      "cell_type": "code",
      "source": [
        "# checking length of vector\n",
        "len(v)"
      ],
      "metadata": {
        "colab": {
          "base_uri": "https://localhost:8080/"
        },
        "id": "HHl2KC37roqt",
        "outputId": "bab12bb2-4ad3-4593-efcf-9f2f100e545d"
      },
      "execution_count": 45,
      "outputs": [
        {
          "output_type": "execute_result",
          "data": {
            "text/plain": [
              "2"
            ]
          },
          "metadata": {},
          "execution_count": 45
        }
      ]
    },
    {
      "cell_type": "code",
      "source": [
        "# checking components of the vector\n",
        "v[0], v[1]"
      ],
      "metadata": {
        "colab": {
          "base_uri": "https://localhost:8080/"
        },
        "id": "83yRmpDbrr_s",
        "outputId": "c1c3d5d5-6720-4d91-abb4-7463737ec890"
      },
      "execution_count": 46,
      "outputs": [
        {
          "output_type": "execute_result",
          "data": {
            "text/plain": [
              "(3, 4)"
            ]
          },
          "metadata": {},
          "execution_count": 46
        }
      ]
    },
    {
      "cell_type": "code",
      "source": [
        "# one way\n",
        "magnitude_v_1 = math.sqrt(v[0]**2 + v[1]**2)\n",
        "\n",
        "# another way\n",
        "magnitude_v_2 = math.sqrt(sum([x**2 for x in v]))\n",
        "\n",
        "print(magnitude_v_1)\n",
        "print(magnitude_v_2)"
      ],
      "metadata": {
        "colab": {
          "base_uri": "https://localhost:8080/"
        },
        "id": "bBt4ilAwkHfW",
        "outputId": "cb99ba9f-5b9e-484e-a4a3-8e1b554c5b26"
      },
      "execution_count": 47,
      "outputs": [
        {
          "output_type": "stream",
          "name": "stdout",
          "text": [
            "5.0\n",
            "5.0\n"
          ]
        }
      ]
    },
    {
      "cell_type": "code",
      "source": [
        "# comment is what Python does not read\n",
        "# some hindi word \"accha hun\"\n",
        "xyz = 10\n",
        "print(\"text for variable xyz = \",xyz)"
      ],
      "metadata": {
        "colab": {
          "base_uri": "https://localhost:8080/"
        },
        "id": "95da5QHrkH3e",
        "outputId": "e31b7ff7-3e70-4b71-d44e-96ea22825bef"
      },
      "execution_count": 48,
      "outputs": [
        {
          "output_type": "stream",
          "name": "stdout",
          "text": [
            "text for variable xyz =  10\n"
          ]
        }
      ]
    },
    {
      "cell_type": "code",
      "source": [
        "v"
      ],
      "metadata": {
        "colab": {
          "base_uri": "https://localhost:8080/"
        },
        "id": "Ry0C3enYsrk3",
        "outputId": "a0cf7301-a91b-4910-b7e5-1009dc3db2be"
      },
      "execution_count": 49,
      "outputs": [
        {
          "output_type": "execute_result",
          "data": {
            "text/plain": [
              "[3, 4]"
            ]
          },
          "metadata": {},
          "execution_count": 49
        }
      ]
    },
    {
      "cell_type": "code",
      "source": [
        "2*v # pending for discussion"
      ],
      "metadata": {
        "colab": {
          "base_uri": "https://localhost:8080/"
        },
        "id": "A01EB0aNs70e",
        "outputId": "d88ffe67-daaf-441b-a6b0-b55ee8c4fdb0"
      },
      "execution_count": 50,
      "outputs": [
        {
          "output_type": "execute_result",
          "data": {
            "text/plain": [
              "[3, 4, 3, 4]"
            ]
          },
          "metadata": {},
          "execution_count": 50
        }
      ]
    },
    {
      "cell_type": "code",
      "source": [
        "ABC = 17\n",
        "PQR = 15\n",
        "\n",
        "print(ABC)"
      ],
      "metadata": {
        "colab": {
          "base_uri": "https://localhost:8080/"
        },
        "id": "uvLg-Q27teKk",
        "outputId": "8c5ba1a8-bcff-4463-9c5b-651be2994e35"
      },
      "execution_count": 51,
      "outputs": [
        {
          "output_type": "stream",
          "name": "stdout",
          "text": [
            "17\n"
          ]
        }
      ]
    },
    {
      "cell_type": "code",
      "source": [
        "ABC = PQR  # PQR value given to ABC\n",
        "# PQR --> ABC\n",
        "print(ABC)"
      ],
      "metadata": {
        "colab": {
          "base_uri": "https://localhost:8080/"
        },
        "id": "vXsDHmWUtgV8",
        "outputId": "dfde6c20-d64f-4dce-ceb0-e5ec75d3a2e6"
      },
      "execution_count": 52,
      "outputs": [
        {
          "output_type": "stream",
          "name": "stdout",
          "text": [
            "15\n"
          ]
        }
      ]
    },
    {
      "cell_type": "code",
      "source": [
        "student = 22/7\n",
        "print(student)"
      ],
      "metadata": {
        "colab": {
          "base_uri": "https://localhost:8080/"
        },
        "id": "HTiIOPFluANh",
        "outputId": "bde6da06-7e47-43e9-a38a-01c91fa61df2"
      },
      "execution_count": 53,
      "outputs": [
        {
          "output_type": "stream",
          "name": "stdout",
          "text": [
            "3.142857142857143\n"
          ]
        }
      ]
    },
    {
      "cell_type": "code",
      "source": [
        "student = \"Mr Student\"\n",
        "print(student)"
      ],
      "metadata": {
        "colab": {
          "base_uri": "https://localhost:8080/"
        },
        "id": "OoNfjURov9E4",
        "outputId": "06e9f8c0-05e5-4060-f499-e9e683c759a1"
      },
      "execution_count": 54,
      "outputs": [
        {
          "output_type": "stream",
          "name": "stdout",
          "text": [
            "Mr Student\n"
          ]
        }
      ]
    },
    {
      "cell_type": "code",
      "source": [
        "student = 0.01/0.5\n",
        "print(student)"
      ],
      "metadata": {
        "colab": {
          "base_uri": "https://localhost:8080/"
        },
        "id": "aln9Wf8hwEwa",
        "outputId": "cfd88587-6387-455b-a873-071623a04b24"
      },
      "execution_count": 55,
      "outputs": [
        {
          "output_type": "stream",
          "name": "stdout",
          "text": [
            "0.02\n"
          ]
        }
      ]
    },
    {
      "cell_type": "code",
      "source": [
        "mango = 10\n",
        "Mango = 20\n",
        "print(mango)"
      ],
      "metadata": {
        "colab": {
          "base_uri": "https://localhost:8080/"
        },
        "id": "cfg4Scc-ykyQ",
        "outputId": "39d3c0da-3a5a-4941-95f7-17047d52a00e"
      },
      "execution_count": 56,
      "outputs": [
        {
          "output_type": "stream",
          "name": "stdout",
          "text": [
            "10\n"
          ]
        }
      ]
    },
    {
      "cell_type": "code",
      "source": [
        "mango == Mango"
      ],
      "metadata": {
        "colab": {
          "base_uri": "https://localhost:8080/"
        },
        "id": "e8qiazhSyrsp",
        "outputId": "11474b3c-a5e7-48e1-e690-7232bee971b7"
      },
      "execution_count": 57,
      "outputs": [
        {
          "output_type": "execute_result",
          "data": {
            "text/plain": [
              "False"
            ]
          },
          "metadata": {},
          "execution_count": 57
        }
      ]
    },
    {
      "cell_type": "code",
      "source": [
        "# uncomment the next line and then run it (it should through an error!)\n",
        "# print(apple)"
      ],
      "metadata": {
        "id": "zFfI9zZly9-S"
      },
      "execution_count": 58,
      "outputs": []
    },
    {
      "cell_type": "code",
      "source": [
        "x1 = 100\n",
        "# y1 = 100\n",
        "x2 = 1+0j\n",
        "print(x1,x2)\n",
        "print(\"x1 is an integer\", type(x1), \" and has value = \", x1)"
      ],
      "metadata": {
        "colab": {
          "base_uri": "https://localhost:8080/"
        },
        "id": "5y8G2T0k0HSr",
        "outputId": "e89abc69-2ca3-4778-81f1-bcbb6fee99ae"
      },
      "execution_count": 59,
      "outputs": [
        {
          "output_type": "stream",
          "name": "stdout",
          "text": [
            "100 (1+0j)\n",
            "x1 is an integer <class 'int'>  and has value =  100\n"
          ]
        }
      ]
    },
    {
      "cell_type": "code",
      "source": [
        "# next line should throw an error, uncomment it and re-run the cell\n",
        "#print(x123)"
      ],
      "metadata": {
        "id": "QooHBtLF1yBG"
      },
      "execution_count": 60,
      "outputs": []
    },
    {
      "cell_type": "code",
      "source": [
        "# modulus\n",
        "10%4"
      ],
      "metadata": {
        "colab": {
          "base_uri": "https://localhost:8080/"
        },
        "id": "gBX_fuz_3bja",
        "outputId": "9f46a723-895f-4271-969a-fe407699a240"
      },
      "execution_count": 61,
      "outputs": [
        {
          "output_type": "execute_result",
          "data": {
            "text/plain": [
              "2"
            ]
          },
          "metadata": {},
          "execution_count": 61
        }
      ]
    },
    {
      "cell_type": "markdown",
      "source": [
        "divide 111 by 32"
      ],
      "metadata": {
        "id": "u0XbZ9Y_4HoY"
      }
    },
    {
      "cell_type": "code",
      "source": [
        "711/32"
      ],
      "metadata": {
        "colab": {
          "base_uri": "https://localhost:8080/"
        },
        "id": "h1X5S50y322C",
        "outputId": "366b8fe5-33c0-4063-dd76-bf859241fe54"
      },
      "execution_count": 62,
      "outputs": [
        {
          "output_type": "execute_result",
          "data": {
            "text/plain": [
              "22.21875"
            ]
          },
          "metadata": {},
          "execution_count": 62
        }
      ]
    },
    {
      "cell_type": "code",
      "source": [
        "# floor division\n",
        "# bring that illustration\n",
        "111//32"
      ],
      "metadata": {
        "colab": {
          "base_uri": "https://localhost:8080/"
        },
        "id": "_aNTaq1d34Sw",
        "outputId": "1c028ee9-4320-41e8-e312-19053526f602"
      },
      "execution_count": 63,
      "outputs": [
        {
          "output_type": "execute_result",
          "data": {
            "text/plain": [
              "3"
            ]
          },
          "metadata": {},
          "execution_count": 63
        }
      ]
    },
    {
      "cell_type": "code",
      "source": [
        "# modulus (gives remainder)\n",
        "111%32"
      ],
      "metadata": {
        "colab": {
          "base_uri": "https://localhost:8080/"
        },
        "id": "L8Kmx2NF358A",
        "outputId": "e7113eca-d88e-4545-b648-a74523032b17"
      },
      "execution_count": 64,
      "outputs": [
        {
          "output_type": "execute_result",
          "data": {
            "text/plain": [
              "15"
            ]
          },
          "metadata": {},
          "execution_count": 64
        }
      ]
    }
  ]
}